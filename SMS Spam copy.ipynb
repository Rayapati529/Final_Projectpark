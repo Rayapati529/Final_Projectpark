{
 "cells": [
  {
   "cell_type": "markdown",
   "id": "6d50c244",
   "metadata": {},
   "source": [
    "# SMS Spam Classification"
   ]
  },
  {
   "cell_type": "markdown",
   "id": "7c34b88b",
   "metadata": {},
   "source": [
    "## Importing Necessary Libraries"
   ]
  },
  {
   "cell_type": "code",
   "execution_count": 1,
   "id": "1072f91b",
   "metadata": {},
   "outputs": [],
   "source": [
    "from pyspark.sql import SparkSession\n",
    "from pyspark.ml.feature import RegexTokenizer, StopWordsRemover, HashingTF, IDF\n",
    "from pyspark.ml import Pipeline\n",
    "from pyspark.sql.functions import col, when\n",
    "from pyspark.ml.classification import LogisticRegression\n",
    "from pyspark.ml.evaluation import BinaryClassificationEvaluator\n",
    "from pyspark.mllib.evaluation import MulticlassMetrics\n",
    "from pyspark.sql.types import FloatType\n",
    "from pyspark.mllib.evaluation import BinaryClassificationMetrics\n",
    "from pyspark.sql.functions import col\n",
    "import seaborn as sns\n"
   ]
  },
  {
   "cell_type": "markdown",
   "metadata": {},
   "source": [
    "### Setup PySpark Environment"
   ]
  },
  {
   "cell_type": "code",
   "execution_count": 2,
   "metadata": {},
   "outputs": [
    {
     "name": "stderr",
     "output_type": "stream",
     "text": [
      "Setting default log level to \"WARN\".\n",
      "To adjust logging level use sc.setLogLevel(newLevel). For SparkR, use setLogLevel(newLevel).\n",
      "23/11/02 00:12:41 WARN NativeCodeLoader: Unable to load native-hadoop library for your platform... using builtin-java classes where applicable\n"
     ]
    }
   ],
   "source": [
    "# Initialize a Spark session\n",
    "spark = SparkSession.builder \\\n",
    "    .appName(\"SMS Spam Classification\") \\\n",
    "    .getOrCreate()"
   ]
  },
  {
   "cell_type": "markdown",
   "id": "ba14a171",
   "metadata": {},
   "source": [
    "## Data Preprocessing\n",
    "\n",
    "Load the dataset, tokenize the text data, and split it into training and validation sets."
   ]
  },
  {
   "cell_type": "markdown",
   "metadata": {},
   "source": [
    "#### Load data using Pyspark"
   ]
  },
  {
   "cell_type": "code",
   "execution_count": 3,
   "metadata": {},
   "outputs": [
    {
     "name": "stdout",
     "output_type": "stream",
     "text": [
      "+-----+--------------------+\n",
      "|Label|             Message|\n",
      "+-----+--------------------+\n",
      "|  ham|Go until jurong p...|\n",
      "|  ham|Ok lar... Joking ...|\n",
      "| spam|Free entry in 2 a...|\n",
      "|  ham|U dun say so earl...|\n",
      "|  ham|Nah I don't think...|\n",
      "| spam|FreeMsg Hey there...|\n",
      "|  ham|Even my brother i...|\n",
      "|  ham|As per your reque...|\n",
      "| spam|WINNER!! As a val...|\n",
      "| spam|Had your mobile 1...|\n",
      "|  ham|I'm gonna be home...|\n",
      "| spam|SIX chances to wi...|\n",
      "| spam|URGENT! You have ...|\n",
      "|  ham|I've been searchi...|\n",
      "|  ham|I HAVE A DATE ON ...|\n",
      "| spam|XXXMobileMovieClu...|\n",
      "|  ham|Oh k...i'm watchi...|\n",
      "|  ham|Eh u remember how...|\n",
      "|  ham|Fine if thats th...|\n",
      "| spam|England v Macedon...|\n",
      "+-----+--------------------+\n",
      "only showing top 20 rows\n",
      "\n"
     ]
    }
   ],
   "source": [
    "# Load the dataset\n",
    "df = spark.read.csv('SMSSpamCollection', sep='\\t', inferSchema=True, header=False)\n",
    "df = df.withColumnRenamed('_c0', 'Label').withColumnRenamed('_c1', 'Message')\n",
    "\n",
    "# Show the first few rows\n",
    "df.show()"
   ]
  },
  {
   "cell_type": "markdown",
   "metadata": {},
   "source": [
    "### Visualizing the Label Distribution"
   ]
  },
  {
   "cell_type": "code",
   "execution_count": 4,
   "metadata": {},
   "outputs": [
    {
     "data": {
      "image/png": "[encoded data removed]",
      "text/plain": [
       "<Figure size 600x400 with 1 Axes>"
      ]
     },
     "metadata": {},
     "output_type": "display_data"
    },
    {
     "name": "stderr",
     "output_type": "stream",
     "text": [
      "23/11/02 00:12:52 WARN GarbageCollectionMetrics: To enable non-built-in garbage collector(s) List(G1 Concurrent GC), users should configure it(them) to spark.eventLog.gcMetrics.youngGenerationGarbageCollectors or spark.eventLog.gcMetrics.oldGenerationGarbageCollectors\n"
     ]
    }
   ],
   "source": [
    "import matplotlib.pyplot as plt\n",
    "import seaborn as sns\n",
    "\n",
    "# Convert to Pandas DataFrame for visualization\n",
    "pdf = df.toPandas()\n",
    "\n",
    "# Visualize the distribution of labels\n",
    "plt.figure(figsize=(6,4))\n",
    "sns.countplot(x='Label', data=pdf)\n",
    "plt.title('Distribution of Spam and Ham Messages')\n",
    "plt.xlabel('Label')\n",
    "plt.ylabel('Count')\n",
    "plt.show()"
   ]
  },
  {
   "cell_type": "markdown",
   "metadata": {},
   "source": [
    "### Data Preprocessing and Feature Engineering"
   ]
  },
  {
   "cell_type": "code",
   "execution_count": 5,
   "metadata": {},
   "outputs": [
    {
     "name": "stderr",
     "output_type": "stream",
     "text": [
      "                                                                                \r"
     ]
    }
   ],
   "source": [
    "# Convert 'ham'/'spam' labels to 0/1\n",
    "df = df.withColumn('Label', when(col('Label') == 'spam', 1).otherwise(0))\n",
    "\n",
    "# Text preprocessing pipeline\n",
    "regexTokenizer = RegexTokenizer(inputCol=\"Message\", outputCol=\"Words\", pattern=\"\\\\W\")\n",
    "stopWordsRemover = StopWordsRemover(inputCol=\"Words\", outputCol=\"Filtered\")\n",
    "hashingTF = HashingTF(inputCol=\"Filtered\", outputCol=\"RawFeatures\")\n",
    "idf = IDF(inputCol=\"RawFeatures\", outputCol=\"Features\")\n",
    "\n",
    "pipeline = Pipeline(stages=[regexTokenizer, stopWordsRemover, hashingTF, idf])\n",
    "\n",
    "# Fit the pipeline to the data\n",
    "model = pipeline.fit(df)\n",
    "df = model.transform(df)"
   ]
  },
  {
   "cell_type": "markdown",
   "id": "25688400",
   "metadata": {},
   "source": [
    "## Model Training"
   ]
  },
  {
   "cell_type": "markdown",
   "metadata": {},
   "source": [
    "### Logistic Regeression"
   ]
  },
  {
   "cell_type": "code",
   "execution_count": 6,
   "id": "54909015",
   "metadata": {},
   "outputs": [
    {
     "name": "stderr",
     "output_type": "stream",
     "text": [
      "23/11/02 00:12:58 WARN DAGScheduler: Broadcasting large task binary with size 4.1 MiB\n",
      "23/11/02 00:12:59 WARN InstanceBuilder: Failed to load implementation from:dev.ludovic.netlib.blas.JNIBLAS\n",
      "23/11/02 00:12:59 WARN InstanceBuilder: Failed to load implementation from:dev.ludovic.netlib.blas.VectorBLAS\n",
      "23/11/02 00:12:59 WARN DAGScheduler: Broadcasting large task binary with size 4.1 MiB\n",
      "23/11/02 00:12:59 WARN DAGScheduler: Broadcasting large task binary with size 4.1 MiB\n",
      "23/11/02 00:12:59 WARN DAGScheduler: Broadcasting large task binary with size 4.1 MiB\n",
      "23/11/02 00:12:59 WARN DAGScheduler: Broadcasting large task binary with size 4.1 MiB\n",
      "23/11/02 00:12:59 WARN DAGScheduler: Broadcasting large task binary with size 4.1 MiB\n",
      "23/11/02 00:12:59 WARN DAGScheduler: Broadcasting large task binary with size 4.1 MiB\n",
      "23/11/02 00:13:00 WARN DAGScheduler: Broadcasting large task binary with size 4.1 MiB\n",
      "23/11/02 00:13:00 WARN DAGScheduler: Broadcasting large task binary with size 4.1 MiB\n",
      "23/11/02 00:13:00 WARN DAGScheduler: Broadcasting large task binary with size 4.1 MiB\n",
      "23/11/02 00:13:00 WARN DAGScheduler: Broadcasting large task binary with size 4.1 MiB\n",
      "23/11/02 00:13:00 WARN DAGScheduler: Broadcasting large task binary with size 4.1 MiB\n",
      "23/11/02 00:13:00 WARN DAGScheduler: Broadcasting large task binary with size 4.1 MiB\n",
      "23/11/02 00:13:00 WARN DAGScheduler: Broadcasting large task binary with size 4.1 MiB\n",
      "23/11/02 00:13:00 WARN DAGScheduler: Broadcasting large task binary with size 4.1 MiB\n",
      "23/11/02 00:13:00 WARN DAGScheduler: Broadcasting large task binary with size 4.1 MiB\n",
      "23/11/02 00:13:00 WARN DAGScheduler: Broadcasting large task binary with size 4.1 MiB\n",
      "23/11/02 00:13:00 WARN DAGScheduler: Broadcasting large task binary with size 4.1 MiB\n",
      "23/11/02 00:13:00 WARN DAGScheduler: Broadcasting large task binary with size 4.1 MiB\n",
      "23/11/02 00:13:00 WARN DAGScheduler: Broadcasting large task binary with size 4.1 MiB\n",
      "23/11/02 00:13:00 WARN DAGScheduler: Broadcasting large task binary with size 4.1 MiB\n",
      "23/11/02 00:13:00 WARN DAGScheduler: Broadcasting large task binary with size 4.1 MiB\n",
      "23/11/02 00:13:01 WARN DAGScheduler: Broadcasting large task binary with size 4.1 MiB\n",
      "23/11/02 00:13:01 WARN DAGScheduler: Broadcasting large task binary with size 4.1 MiB\n",
      "23/11/02 00:13:01 WARN DAGScheduler: Broadcasting large task binary with size 4.1 MiB\n",
      "23/11/02 00:13:01 WARN DAGScheduler: Broadcasting large task binary with size 4.1 MiB\n",
      "23/11/02 00:13:01 WARN DAGScheduler: Broadcasting large task binary with size 4.1 MiB\n",
      "23/11/02 00:13:01 WARN DAGScheduler: Broadcasting large task binary with size 4.1 MiB\n",
      "23/11/02 00:13:01 WARN DAGScheduler: Broadcasting large task binary with size 4.1 MiB\n",
      "23/11/02 00:13:01 WARN DAGScheduler: Broadcasting large task binary with size 4.1 MiB\n",
      "23/11/02 00:13:01 WARN DAGScheduler: Broadcasting large task binary with size 4.1 MiB\n",
      "23/11/02 00:13:01 WARN DAGScheduler: Broadcasting large task binary with size 4.1 MiB\n",
      "23/11/02 00:13:01 WARN DAGScheduler: Broadcasting large task binary with size 4.1 MiB\n",
      "23/11/02 00:13:01 WARN DAGScheduler: Broadcasting large task binary with size 4.1 MiB\n",
      "23/11/02 00:13:01 WARN DAGScheduler: Broadcasting large task binary with size 4.1 MiB\n"
     ]
    }
   ],
   "source": [
    "# Split the data\n",
    "train_data, test_data = df.randomSplit([0.8, 0.2], seed=42)\n",
    "\n",
    "# Initialize and train the classifier\n",
    "lr = LogisticRegression(featuresCol='Features', labelCol='Label')\n",
    "lr_model = lr.fit(train_data)\n",
    "\n",
    "# Predictions\n",
    "predictions = lr_model.transform(test_data)"
   ]
  },
  {
   "cell_type": "markdown",
   "metadata": {},
   "source": [
    "### Model Evaluation"
   ]
  },
  {
   "cell_type": "code",
   "execution_count": 7,
   "metadata": {},
   "outputs": [
    {
     "name": "stderr",
     "output_type": "stream",
     "text": [
      "23/11/02 00:13:07 WARN DAGScheduler: Broadcasting large task binary with size 4.2 MiB\n"
     ]
    },
    {
     "name": "stdout",
     "output_type": "stream",
     "text": [
      "Accuracy:  0.9961789910769504\n"
     ]
    }
   ],
   "source": [
    "# Evaluate the model\n",
    "evaluator = BinaryClassificationEvaluator(rawPredictionCol='rawPrediction', labelCol='Label')\n",
    "accuracy = evaluator.evaluate(predictions)\n",
    "\n",
    "print(\"Accuracy: \", accuracy)"
   ]
  },
  {
   "cell_type": "markdown",
   "metadata": {},
   "source": [
    "### More Metrics"
   ]
  },
  {
   "cell_type": "code",
   "execution_count": 8,
   "metadata": {},
   "outputs": [
    {
     "name": "stderr",
     "output_type": "stream",
     "text": [
      "/Users/bhanu/anaconda3/envs/DSP/lib/python3.11/site-packages/pyspark/sql/context.py:158: FutureWarning: Deprecated in 3.0.0. Use SparkSession.builder.getOrCreate() instead.\n",
      "  warnings.warn(\n",
      "23/11/02 00:13:10 WARN DAGScheduler: Broadcasting large task binary with size 4.2 MiB\n",
      "23/11/02 00:13:11 WARN DAGScheduler: Broadcasting large task binary with size 4.2 MiB\n"
     ]
    },
    {
     "name": "stdout",
     "output_type": "stream",
     "text": [
      "Area under PR = 0.8798215582529308\n",
      "Area under ROC = 0.9766381766381766\n"
     ]
    },
    {
     "name": "stderr",
     "output_type": "stream",
     "text": [
      "23/11/02 00:13:11 WARN DAGScheduler: Broadcasting large task binary with size 4.2 MiB\n",
      "23/11/02 00:13:12 WARN DAGScheduler: Broadcasting large task binary with size 4.2 MiB\n",
      "23/11/02 00:13:12 WARN DAGScheduler: Broadcasting large task binary with size 4.2 MiB\n",
      "23/11/02 00:13:12 WARN DAGScheduler: Broadcasting large task binary with size 4.2 MiB\n"
     ]
    },
    {
     "name": "stdout",
     "output_type": "stream",
     "text": [
      "Precision = 0.9703703703703703\n",
      "Recall = 0.891156462585034\n",
      "F1 Score = 0.9290780141843973\n"
     ]
    }
   ],
   "source": [
    "# Convert the predictions to an RDD\n",
    "predictions_rdd = predictions.select(col('Label').cast(FloatType()), col('prediction').cast(FloatType())).rdd\n",
    "\n",
    "# Instantiate metrics object\n",
    "metrics = BinaryClassificationMetrics(predictions_rdd)\n",
    "\n",
    "# Area under precision-recall curve\n",
    "print(\"Area under PR = %s\" % metrics.areaUnderPR)\n",
    "\n",
    "# Area under ROC curve\n",
    "print(\"Area under ROC = %s\" % metrics.areaUnderROC)\n",
    "\n",
    "# Compute confusion matrix\n",
    "tp = predictions[(predictions.Label == 1) & (predictions.prediction == 1)].count()\n",
    "tn = predictions[(predictions.Label == 0) & (predictions.prediction == 0)].count()\n",
    "fp = predictions[(predictions.Label == 0) & (predictions.prediction == 1)].count()\n",
    "fn = predictions[(predictions.Label == 1) & (predictions.prediction == 0)].count()\n",
    "\n",
    "# Calculate precision, recall, and F1-score\n",
    "precision = tp / (tp + fp)\n",
    "recall = tp / (tp + fn)\n",
    "f1_score = 2 * (precision * recall) / (precision + recall)\n",
    "\n",
    "print(\"Precision = %s\" % precision)\n",
    "print(\"Recall = %s\" % recall)\n",
    "print(\"F1 Score = %s\" % f1_score)"
   ]
  },
  {
   "cell_type": "markdown",
   "metadata": {},
   "source": [
    "### Confusion Matrix"
   ]
  },
  {
   "cell_type": "code",
   "execution_count": 9,
   "metadata": {},
   "outputs": [
    {
     "data": {
      "image/png": "[encoded data removed]",
      "text/plain": [
       "<Figure size 600x600 with 1 Axes>"
      ]
     },
     "metadata": {},
     "output_type": "display_data"
    }
   ],
   "source": [
    "# Plot Confusion Matrix\n",
    "confusion_matrix = [[tn, fp], [fn, tp]]\n",
    "\n",
    "plt.figure(figsize=(6,6))\n",
    "sns.heatmap(confusion_matrix, annot=True, fmt='g', cmap='Blues', cbar=False)\n",
    "plt.title('Confusion Matrix')\n",
    "plt.xlabel('Predicted Labels')\n",
    "plt.ylabel('True Labels')\n",
    "plt.show()"
   ]
  },
  {
   "cell_type": "markdown",
   "metadata": {},
   "source": [
    "### SVM"
   ]
  },
  {
   "cell_type": "code",
   "execution_count": 10,
   "metadata": {},
   "outputs": [
    {
     "name": "stderr",
     "output_type": "stream",
     "text": [
      "23/11/02 00:13:24 WARN DAGScheduler: Broadcasting large task binary with size 4.1 MiB\n",
      "23/11/02 00:13:24 WARN DAGScheduler: Broadcasting large task binary with size 4.1 MiB\n",
      "23/11/02 00:13:24 WARN DAGScheduler: Broadcasting large task binary with size 4.1 MiB\n",
      "23/11/02 00:13:24 WARN DAGScheduler: Broadcasting large task binary with size 4.1 MiB\n",
      "23/11/02 00:13:24 WARN DAGScheduler: Broadcasting large task binary with size 4.1 MiB\n",
      "23/11/02 00:13:24 WARN DAGScheduler: Broadcasting large task binary with size 4.1 MiB\n",
      "23/11/02 00:13:24 WARN DAGScheduler: Broadcasting large task binary with size 4.1 MiB\n",
      "23/11/02 00:13:24 WARN DAGScheduler: Broadcasting large task binary with size 4.1 MiB\n",
      "23/11/02 00:13:25 WARN DAGScheduler: Broadcasting large task binary with size 4.1 MiB\n",
      "23/11/02 00:13:25 WARN DAGScheduler: Broadcasting large task binary with size 4.1 MiB\n",
      "23/11/02 00:13:25 WARN DAGScheduler: Broadcasting large task binary with size 4.1 MiB\n",
      "23/11/02 00:13:25 WARN DAGScheduler: Broadcasting large task binary with size 4.1 MiB\n",
      "23/11/02 00:13:25 WARN DAGScheduler: Broadcasting large task binary with size 4.1 MiB\n",
      "23/11/02 00:13:25 WARN DAGScheduler: Broadcasting large task binary with size 4.1 MiB\n",
      "23/11/02 00:13:25 WARN DAGScheduler: Broadcasting large task binary with size 4.1 MiB\n",
      "23/11/02 00:13:25 WARN DAGScheduler: Broadcasting large task binary with size 4.1 MiB\n",
      "23/11/02 00:13:25 WARN DAGScheduler: Broadcasting large task binary with size 4.1 MiB\n",
      "23/11/02 00:13:25 WARN DAGScheduler: Broadcasting large task binary with size 4.1 MiB\n",
      "23/11/02 00:13:25 WARN DAGScheduler: Broadcasting large task binary with size 4.1 MiB\n",
      "23/11/02 00:13:25 WARN DAGScheduler: Broadcasting large task binary with size 4.1 MiB\n",
      "23/11/02 00:13:25 WARN DAGScheduler: Broadcasting large task binary with size 4.1 MiB\n",
      "23/11/02 00:13:25 WARN DAGScheduler: Broadcasting large task binary with size 4.1 MiB\n",
      "23/11/02 00:13:25 WARN DAGScheduler: Broadcasting large task binary with size 4.1 MiB\n",
      "23/11/02 00:13:26 WARN DAGScheduler: Broadcasting large task binary with size 6.1 MiB\n"
     ]
    },
    {
     "name": "stdout",
     "output_type": "stream",
     "text": [
      "SVM Accuracy:  0.9970698236004358\n"
     ]
    }
   ],
   "source": [
    "from pyspark.ml.classification import LinearSVC\n",
    "\n",
    "# Initialize and train the SVM classifier\n",
    "svm = LinearSVC(featuresCol='Features', labelCol='Label', maxIter=10, regParam=0.1)\n",
    "svm_model = svm.fit(train_data)\n",
    "\n",
    "# Predictions\n",
    "svm_predictions = svm_model.transform(test_data)\n",
    "\n",
    "# Evaluate the model\n",
    "svm_accuracy = evaluator.evaluate(svm_predictions)\n",
    "print(\"SVM Accuracy: \", svm_accuracy)"
   ]
  },
  {
   "cell_type": "code",
   "execution_count": 11,
   "metadata": {},
   "outputs": [
    {
     "name": "stderr",
     "output_type": "stream",
     "text": [
      "/Users/bhanu/anaconda3/envs/DSP/lib/python3.11/site-packages/pyspark/sql/context.py:158: FutureWarning: Deprecated in 3.0.0. Use SparkSession.builder.getOrCreate() instead.\n",
      "  warnings.warn(\n",
      "23/11/02 00:13:29 WARN DAGScheduler: Broadcasting large task binary with size 6.1 MiB\n",
      "23/11/02 00:13:29 WARN DAGScheduler: Broadcasting large task binary with size 6.1 MiB\n"
     ]
    },
    {
     "name": "stdout",
     "output_type": "stream",
     "text": [
      "SVM Area under PR = 0.9016287366010235\n",
      "SVM Area under ROC = 0.9722717913520934\n"
     ]
    },
    {
     "name": "stderr",
     "output_type": "stream",
     "text": [
      "23/11/02 00:13:30 WARN DAGScheduler: Broadcasting large task binary with size 6.1 MiB\n",
      "23/11/02 00:13:30 WARN DAGScheduler: Broadcasting large task binary with size 6.1 MiB\n",
      "23/11/02 00:13:30 WARN DAGScheduler: Broadcasting large task binary with size 6.1 MiB\n"
     ]
    },
    {
     "name": "stdout",
     "output_type": "stream",
     "text": [
      "SVM Precision = 0.9574468085106383\n",
      "SVM Recall = 0.9183673469387755\n",
      "SVM F1 Score = 0.9375000000000001\n"
     ]
    },
    {
     "name": "stderr",
     "output_type": "stream",
     "text": [
      "23/11/02 00:13:30 WARN DAGScheduler: Broadcasting large task binary with size 6.1 MiB\n"
     ]
    }
   ],
   "source": [
    "from pyspark.sql.functions import col\n",
    "import seaborn as sns\n",
    "\n",
    "# Convert the predictions to an RDD\n",
    "svm_predictions_rdd = svm_predictions.select(col('Label').cast(FloatType()), col('prediction').cast(FloatType())).rdd\n",
    "\n",
    "# Instantiate metrics object\n",
    "svm_metrics = BinaryClassificationMetrics(svm_predictions_rdd)\n",
    "\n",
    "# Area under precision-recall curve\n",
    "print(\"SVM Area under PR = %s\" % svm_metrics.areaUnderPR)\n",
    "\n",
    "# Area under ROC curve\n",
    "print(\"SVM Area under ROC = %s\" % svm_metrics.areaUnderROC)\n",
    "\n",
    "# Compute confusion matrix\n",
    "svm_tp = svm_predictions[(svm_predictions.Label == 1) & (svm_predictions.prediction == 1)].count()\n",
    "svm_tn = svm_predictions[(svm_predictions.Label == 0) & (svm_predictions.prediction == 0)].count()\n",
    "svm_fp = svm_predictions[(svm_predictions.Label == 0) & (svm_predictions.prediction == 1)].count()\n",
    "svm_fn = svm_predictions[(svm_predictions.Label == 1) & (svm_predictions.prediction == 0)].count()\n",
    "\n",
    "# Calculate precision, recall, and F1-score\n",
    "svm_precision = svm_tp / (svm_tp + svm_fp)\n",
    "svm_recall = svm_tp / (svm_tp + svm_fn)\n",
    "svm_f1_score = 2 * (svm_precision * svm_recall) / (svm_precision + svm_recall)\n",
    "\n",
    "print(\"SVM Precision = %s\" % svm_precision)\n",
    "print(\"SVM Recall = %s\" % svm_recall)\n",
    "print(\"SVM F1 Score = %s\" % svm_f1_score)"
   ]
  },
  {
   "cell_type": "code",
   "execution_count": 12,
   "metadata": {},
   "outputs": [
    {
     "data": {
      "image/png": "[encoded data removed]",
      "text/plain": [
       "<Figure size 600x600 with 1 Axes>"
      ]
     },
     "metadata": {},
     "output_type": "display_data"
    }
   ],
   "source": [
    "# Plot Confusion Matrix\n",
    "svm_confusion_matrix = [[svm_tn, svm_fp], [svm_fn, svm_tp]]\n",
    "\n",
    "plt.figure(figsize=(6,6))\n",
    "sns.heatmap(svm_confusion_matrix, annot=True, fmt='g', cmap='Blues', cbar=False)\n",
    "plt.title('SVM Confusion Matrix')\n",
    "plt.xlabel('Predicted Labels')\n",
    "plt.ylabel('True Labels')\n",
    "plt.show()"
   ]
  },
  {
   "cell_type": "code",
   "execution_count": null,
   "metadata": {},
   "outputs": [],
   "source": []
  }
 ],
 "metadata": {
  "kernelspec": {
   "display_name": "DSP",
   "language": "python",
   "name": "python3"
  },
  "language_info": {
   "codemirror_mode": {
    "name": "ipython",
    "version": 3
   },
   "file_extension": ".py",
   "mimetype": "text/x-python",
   "name": "python",
   "nbconvert_exporter": "python",
   "pygments_lexer": "ipython3",
   "version": "3.11.5"
  }
 },
 "nbformat": 4,
 "nbformat_minor": 5
}
